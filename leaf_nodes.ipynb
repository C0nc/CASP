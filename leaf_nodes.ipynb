{
 "cells": [
  {
   "cell_type": "code",
   "execution_count": 1,
   "metadata": {},
   "outputs": [
    {
     "name": "stderr",
     "output_type": "stream",
     "text": [
      "/data/civy/miniconda3/envs/causal/lib/python3.11/site-packages/h5py/__init__.py:36: UserWarning: h5py is running against HDF5 1.14.3 when it was built against 1.14.2, this may cause problems\n",
      "  _warn((\"h5py is running against HDF5 {0} when it was built against {1}, \"\n",
      "/data/civy/miniconda3/envs/causal/lib/python3.11/site-packages/tqdm/auto.py:21: TqdmWarning: IProgress not found. Please update jupyter and ipywidgets. See https://ipywidgets.readthedocs.io/en/stable/user_install.html\n",
      "  from .autonotebook import tqdm as notebook_tqdm\n",
      "Detecting 3 CUDA device(s).\n"
     ]
    },
    {
     "name": "stdout",
     "output_type": "stream",
     "text": [
      "Method : LiNGAM\n"
     ]
    }
   ],
   "source": [
    "import scanpy as sc \n",
    "import squidpy as sq\n",
    "from CASP import CASP\n",
    "import numpy as np\n",
    "\n",
    "adata = sc.read_h5ad('keren1.h5ad')\n",
    "casp = CASP(adata)\n",
    "casp.causal_discovery(show=False)\n",
    "leaf_nodes, leaf_index = casp.get_leaf_nodes()\n",
    "\n",
    "train_index = np.ones(adata.X.shape[1]).astype(bool)\n",
    "train_index[leaf_index] = 0\n",
    "\n",
    "X_total = adata.X\n",
    "\n",
    "X =  X_total[:,train_index]\n",
    "\n",
    "y = X_total[:,~train_index]"
   ]
  },
  {
   "cell_type": "code",
   "execution_count": null,
   "metadata": {},
   "outputs": [],
   "source": [
    "import numpy as np\n",
    "\n",
    "X_total = adata.X\n",
    "np.random.seed(42)\n",
    "random_index = np.random.choice(np.arange(X_total.shape[1]), len(leaf_nodes), replace=False)\n",
    "train_index = np.ones(adata.X.shape[1]).astype(bool)\n",
    "train_index[random_index] = 0\n",
    "\n",
    "X =  X_total[:,train_index]\n",
    "\n",
    "y = X_total[:,~train_index]"
   ]
  },
  {
   "cell_type": "code",
   "execution_count": null,
   "metadata": {},
   "outputs": [],
   "source": [
    "import torch\n",
    "import torch.nn as nn\n",
    "import torch.optim as optim\n",
    "from sklearn.datasets import make_regression\n",
    "from sklearn.metrics import r2_score\n",
    "from torch.utils.data import DataLoader, TensorDataset\n",
    "from sklearn.model_selection import train_test_split\n",
    "\n",
    "\n",
    "# Split the dataset into training and testing sets\n",
    "X_train, X_test, y_train, y_test = train_test_split(torch.from_numpy(X).float(), torch.from_numpy(y).float(), test_size=0.2, random_state=42)\n",
    "\n",
    "# Create TensorDatasets for train and test sets\n",
    "train_dataset = TensorDataset(X_train, y_train)\n",
    "test_dataset = TensorDataset(X_test, y_test)\n",
    "\n",
    "# DataLoader\n",
    "train_loader = DataLoader(train_dataset, batch_size=64, shuffle=True)\n",
    "test_loader = DataLoader(test_dataset, batch_size=64, shuffle=False)\n",
    "\n",
    "# Define the MLP model for regression\n",
    "class MLP(nn.Module):\n",
    "    def __init__(self):\n",
    "        super(MLP, self).__init__()\n",
    "        self.layer1 = nn.Linear(X.shape[1], 128) \n",
    "        self.layer2 = nn.Linear(128, 64)  \n",
    "        #self.layer3 = nn.Linear(64, 32)\n",
    "        self.output = nn.Linear(64, y.shape[1])\n",
    "        self.dropout = nn.Dropout(0.3)\n",
    "\n",
    "    def forward(self, x):\n",
    "        x = self.dropout(torch.relu(self.layer1(x)))\n",
    "        x = self.dropout(torch.relu(self.layer2(x)))\n",
    "        #x = self.dropout(torch.relu(self.layer3(x)))\n",
    "        x = self.output(x)\n",
    "        return x\n",
    "\n",
    "# Initialize the model, optimizer and loss function\n",
    "model = MLP()\n",
    "optimizer = optim.Adam(model.parameters(), lr=1e-3, weight_decay=1e-4)\n",
    "criterion = nn.MSELoss()\n",
    "\n",
    "# Training loop\n",
    "def train(model, train_loader, optimizer, criterion):\n",
    "    model.train()\n",
    "    for X_batch, y_batch in train_loader:\n",
    "        optimizer.zero_grad()\n",
    "        output = model(X_batch)\n",
    "        loss = criterion(output, y_batch)\n",
    "        loss.backward()\n",
    "        optimizer.step()\n",
    "\n",
    "# Training the model\n",
    "for epoch in range(1000):  # number of epochs\n",
    "    train(model, train_loader, optimizer, criterion)\n",
    "\n",
    "# Evaluate the model\n",
    "def evaluate(model, test_loader):\n",
    "    model.eval()\n",
    "    predictions = []\n",
    "    targets = []\n",
    "    with torch.no_grad():\n",
    "        for X_batch, y_batch in test_loader:\n",
    "            output = model(X_batch)\n",
    "            predictions.extend(output.view(-1).tolist())\n",
    "            targets.extend(y_batch.view(-1).tolist())\n",
    "    return r2_score(targets, predictions)\n",
    "\n",
    "r2 = evaluate(model, test_loader)\n",
    "print(f\"Test R^2 Score: {r2}\")\n"
   ]
  }
 ],
 "metadata": {
  "kernelspec": {
   "display_name": "causal",
   "language": "python",
   "name": "python3"
  },
  "language_info": {
   "codemirror_mode": {
    "name": "ipython",
    "version": 3
   },
   "file_extension": ".py",
   "mimetype": "text/x-python",
   "name": "python",
   "nbconvert_exporter": "python",
   "pygments_lexer": "ipython3",
   "version": "3.11.6"
  }
 },
 "nbformat": 4,
 "nbformat_minor": 2
}
